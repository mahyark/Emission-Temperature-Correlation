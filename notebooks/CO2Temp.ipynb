{
 "cells": [
  {
   "cell_type": "code",
   "execution_count": 4,
   "metadata": {},
   "outputs": [],
   "source": [
    "# from pyspark.sql import SQLContext\n",
    "from pyspark.sql.types import *\n",
    "from datetime import datetime\n",
    "import matplotlib.pyplot as plt\n",
    "import numpy as np\n",
    "import ipywidgets as widgets\n",
    "from ipywidgets import interactive"
   ]
  },
  {
   "cell_type": "code",
   "execution_count": 5,
   "metadata": {},
   "outputs": [],
   "source": [
    "sqlContext = SQLContext(sc)\n",
    "\n",
    "df_co2uitstoot=sqlContext.read.load('../data/CO2Uitstoot/annual-co-emissions-per-country.csv', \n",
    "                        format='com.databricks.spark.csv', \n",
    "                        header='true',inferSchema='true')\n",
    "\n",
    "df_temperaturen=sqlContext.read.load('../data/temperatuur/GlobalLandTemperaturesByCountry.csv', \n",
    "                        format='com.databricks.spark.csv', \n",
    "                        header='true',inferSchema='true')"
   ]
  },
  {
   "cell_type": "code",
   "execution_count": 6,
   "metadata": {},
   "outputs": [
    {
     "data": {
      "text/plain": [
       "DataFrame[AverageTemperature: double]"
      ]
     },
     "execution_count": 6,
     "metadata": {},
     "output_type": "execute_result"
    }
   ],
   "source": [
    "df_co2 = df_co2uitstoot.createOrReplaceTempView(\"table1\")\n",
    "spark.sql(\"SELECT co from table1 where co IS NOT NULL \")\n",
    "\n",
    "df_temp = df_temperaturen.createOrReplaceTempView(\"table2\")\n",
    "spark.sql(\"SELECT AverageTemperature from table2 where AverageTemperature IS NOT NULL \")"
   ]
  },
  {
   "cell_type": "code",
   "execution_count": 7,
   "metadata": {},
   "outputs": [],
   "source": [
    "# //Voor dropdown, country //\n",
    "# kolom uit dataset halen en in een array (2d) plaatsten\n",
    "# 2d array waarden uithalen en in een 1d array zetten\n",
    "\n",
    "country = []\n",
    "country.append(np.array(spark.sql(\"SELECT DISTINCT entity from table1 where entity IS NOT NULL ORDER BY ENTITY\").collect()))\n",
    "\n",
    "country_array2 = []\n",
    "for i in range(len(country[0])):\n",
    "    string = str(country[0][i][0])\n",
    "    country_array2.append(string)\n"
   ]
  },
  {
   "cell_type": "code",
   "execution_count": 27,
   "metadata": {},
   "outputs": [
    {
     "data": {
      "application/vnd.jupyter.widget-view+json": {
       "model_id": "d9b0fbff35584fa8b511a78b4cb4dbc0",
       "version_major": 2,
       "version_minor": 0
      },
      "text/plain": [
       "Dropdown(description='Country:', options=('Afghanistan', 'Africa', 'Albania', 'Algeria', 'Andorra', 'Angola', …"
      ]
     },
     "metadata": {},
     "output_type": "display_data"
    }
   ],
   "source": [
    "# dropdown adhv country\n",
    "dropdown = widgets.Dropdown(\n",
    "    options= country_array2,\n",
    "    value=None,\n",
    "    description='Country:',\n",
    "    disabled=False,\n",
    ")\n",
    "\n",
    "dropdown"
   ]
  },
  {
   "cell_type": "code",
   "execution_count": 28,
   "metadata": {},
   "outputs": [],
   "source": [
    "# //na dropdown, andere kolommen //\n",
    "# kolom uit dataset halen en in een array (2d) plaatsten\n",
    "co2uitstoot = []\n",
    "co2uitstoot.append(np.array(spark.sql(\"SELECT co from table1 where co IS NOT NULL and year % 3 = 0 and year between 2001 and 2013 and Entity == '{0}'\".format(dropdown.value)).collect()))\n",
    "\n",
    "years = []\n",
    "years.append(np.array(spark.sql(\"SELECT year from table1 where year IS NOT NULL and year % 3 = 0 and year between 2001 and 2013 and Entity == '{0}'\".format(dropdown.value)).collect()))\n",
    "\n",
    "temperaturen = []\n",
    "temperaturen.append(np.array(spark.sql(\" SELECT round(AVG(AverageTemperature)) FROM table2 where substring_index(dt,'-',1) % 3 = 0 and substring_index(dt,'-',1) between 2001 and 2013 AND Country == '{0}' GROUP BY substring_index(dt,'-',1) ORDER BY substring_index(dt,'-',1)\".format(dropdown.value)).collect()))\n",
    "                                                                                                                                                            #datum splitten tot eerste - in dit geval jaar"
   ]
  },
  {
   "cell_type": "code",
   "execution_count": 29,
   "metadata": {},
   "outputs": [],
   "source": [
    "# 2d array waarden uithalen en in een 1d array zetten\n",
    "co2_array2 = []\n",
    "for i in range(len(co2uitstoot[0])):\n",
    "    co2_array2.append(co2uitstoot[0][i][0])\n",
    "    \n",
    "years_array2 = []\n",
    "for i in range(len(years[0])):\n",
    "    string = str(years[0][i][0])\n",
    "    years_array2.append(string)\n",
    "    \n",
    "temp_array2 = []\n",
    "for i in range(len(temperaturen[0])):\n",
    "    temp_array2.append(temperaturen[0][i][0])"
   ]
  },
  {
   "cell_type": "code",
   "execution_count": 30,
   "metadata": {},
   "outputs": [
    {
     "name": "stdout",
     "output_type": "stream",
     "text": [
      "[125.85, 128.76, 120.35, 113.35, 101.75]\n",
      "['2001', '2004', '2007', '2010', '2013']\n",
      "[11.0, 10.0, 11.0, 9.0, 10.0]\n"
     ]
    }
   ],
   "source": [
    "print(co2_array2)\n",
    "print(years_array2)\n",
    "print(temp_array2)"
   ]
  },
  {
   "cell_type": "code",
   "execution_count": 31,
   "metadata": {},
   "outputs": [],
   "source": [
    "# Bar chart\n",
    "def plot_bar_x():\n",
    "    index = np.arange(len(years_array2))\n",
    "    bar_width = 0.35\n",
    "    opacity = 0.8\n",
    "    bar_co2 = plt.bar(index, co2_array2, bar_width,\n",
    "                 alpha=opacity,\n",
    "                 color='b',\n",
    "                 label='CO2 emissions (mln tons per capita)')\n",
    " \n",
    "    bar_temp = plt.bar(index + bar_width, temp_array2, bar_width,\n",
    "                 alpha=opacity,\n",
    "                 color='g',\n",
    "                 label='Temp in °C')\n",
    "    plt.xlabel('Years', fontsize=10)\n",
    "    plt.xticks(index +bar_width, years_array2, fontsize=10, rotation=30)\n",
    "    plt.title('Co2 uitstoot in vergelijking met temperaturen')\n",
    "    plt.legend()\n",
    "    plt.tight_layout()\n",
    "    plt.show()\n",
    "    \n",
    "    \n"
   ]
  },
  {
   "cell_type": "code",
   "execution_count": 32,
   "metadata": {},
   "outputs": [
    {
     "data": {
      "image/png": "[encoded data removed]",
      "text/plain": [
       "<Figure size 432x288 with 1 Axes>"
      ]
     },
     "metadata": {},
     "output_type": "display_data"
    },
    {
     "name": "stdout",
     "output_type": "stream",
     "text": [
      "Belgium\n"
     ]
    }
   ],
   "source": [
    "plot_bar_x()\n",
    "print(dropdown.value)"
   ]
  },
  {
   "cell_type": "code",
   "execution_count": null,
   "metadata": {},
   "outputs": [],
   "source": []
  }
 ],
 "metadata": {
  "kernelspec": {
   "display_name": "Python 3",
   "language": "python",
   "name": "python3"
  },
  "language_info": {
   "codemirror_mode": {
    "name": "ipython",
    "version": 3
   },
   "file_extension": ".py",
   "mimetype": "text/x-python",
   "name": "python",
   "nbconvert_exporter": "python",
   "pygments_lexer": "ipython3",
   "version": "3.6.5"
  }
 },
 "nbformat": 4,
 "nbformat_minor": 2
}
